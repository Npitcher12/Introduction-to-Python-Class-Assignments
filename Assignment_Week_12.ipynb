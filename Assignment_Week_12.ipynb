{
  "nbformat": 4,
  "nbformat_minor": 0,
  "metadata": {
    "colab": {
      "name": "Copy of Assignment Week 12.ipynb",
      "provenance": [],
      "include_colab_link": true
    },
    "kernelspec": {
      "name": "python3",
      "display_name": "Python 3"
    }
  },
  "cells": [
    {
      "cell_type": "markdown",
      "metadata": {
        "id": "view-in-github",
        "colab_type": "text"
      },
      "source": [
        "<a href=\"https://colab.research.google.com/github/Npitcher12/Introduction-to-Python-Class-Assignments/blob/master/Assignment_Week_12.ipynb\" target=\"_parent\"><img src=\"https://colab.research.google.com/assets/colab-badge.svg\" alt=\"Open In Colab\"/></a>"
      ]
    },
    {
      "cell_type": "markdown",
      "metadata": {
        "id": "BsOHbOwEl2_2"
      },
      "source": [
        "**FUN WITH SPREADSHEET DATA**\n",
        "\n",
        "In the worksheet this week, we had a bunch of examples of working with spreadsheet data in an external file. In the assignment, we will build on the examples in the Worksheet.\n",
        "\n",
        "You can find the worksheet here: https://github.com/mlepinski/Python-Worksheets/blob/master/Week_12_Worksheet.ipynb\n",
        "\n",
        "For these problems you should use the state data file in my GitHub repository. https://raw.githubusercontent.com/mlepinski/Python-Worksheets/master/states.csv"
      ]
    },
    {
      "cell_type": "code",
      "metadata": {
        "id": "Ukfid6sElx_n"
      },
      "source": [
        "file_name = \"https://raw.githubusercontent.com/mlepinski/Python-Worksheets/master/states.csv\""
      ],
      "execution_count": 1,
      "outputs": []
    },
    {
      "cell_type": "markdown",
      "metadata": {
        "id": "r4g_dchAm6XT"
      },
      "source": [
        "1) The median is the middle value of a set of numbers. (https://en.wikipedia.org/wiki/Median) \n",
        "\n",
        "Write Python code to find the Median population of a state. Since the state data includes the District of Columbia, the median would be the state with the  26th highest population.\n",
        "\n",
        "2) Write Python code to figure out how many state names start with the letter \"M\". \n",
        "\n",
        "Recall that if you have a string, you can get the first letter of the string by using **[0]**. For example, if **name** is a string, then **name[0]** is the first letter of the string\n",
        "\n",
        "3) Population density is the number of people divided by the amount of area. Write Python code that adds a column to the state data that lists the population density of the state. \n",
        "\n",
        "Note: You can print out the **head()** of the data table to make sure this worked.\n",
        "\n",
        "4) Write Python code to figure out which state has the largest population density? the least population density? the median population density?"
      ]
    },
    {
      "cell_type": "code",
      "metadata": {
        "id": "XjQHnzhXgNOE"
      },
      "source": [
        "import pandas\n",
        "state_data = pandas.read_csv(file_name)\n",
        "pop_list = []\n",
        "population = 0\n",
        "\n",
        "for (row_num, row) in state_data.iterrows():\n",
        "  pop_list.append(row[\"Pop\"])\n",
        "pop_list = sorted(pop_list)\n",
        "\n",
        "for (row_num, row) in state_data.iterrows():\n",
        "  if row[\"Pop\"] == pop_list[25]:\n",
        "    print('The state with the median population of', pop_list[25], 'is', row[\"Name\"])"
      ],
      "execution_count": null,
      "outputs": []
    },
    {
      "cell_type": "code",
      "metadata": {
        "id": "SMFPVr-yls8b"
      },
      "source": [
        "counter = 0\n",
        "for (row_num, row) in state_data.iterrows():\n",
        "  name = row[\"Name\"]\n",
        "  if name[0] == \"M\":\n",
        "    counter = counter + 1\n",
        "print('There are', counter ,'states that start with the letter M')"
      ],
      "execution_count": null,
      "outputs": []
    },
    {
      "cell_type": "code",
      "metadata": {
        "id": "JZtriXbcmvq7"
      },
      "source": [
        "state_data[\"Pop Density\"] = state_data[\"Pop\"]/state_data[\"Area\"]\n",
        "\n",
        "state_data.head()"
      ],
      "execution_count": null,
      "outputs": []
    },
    {
      "cell_type": "code",
      "metadata": {
        "id": "guHR9roSniIb"
      },
      "source": [
        "popD_list = []\n",
        "\n",
        "for (row_num, row) in state_data.iterrows():\n",
        "  popD_list.append(row[\"Pop Density\"])\n",
        "popD_list = sorted(popD_list)\n",
        "\n",
        "for (row_num, row) in state_data.iterrows():\n",
        "  if row[\"Pop Density\"] == state_data[\"Pop Density\"].min():\n",
        "    print('The state with the least population density is', row[\"Name\"],'(',row[\"Pop Density\"],')')\n",
        "  if row[\"Pop Density\"] == state_data[\"Pop Density\"].max():\n",
        "    print('The state with the most population density is', row[\"Name\"],'(',row[\"Pop Density\"],')')\n",
        "  if row[\"Pop Density\"] == popD_list[25]:\n",
        "    print('The state with the median population density is', row[\"Name\"],'(',row[\"Pop Density\"],')')\n"
      ],
      "execution_count": null,
      "outputs": []
    }
  ]
}