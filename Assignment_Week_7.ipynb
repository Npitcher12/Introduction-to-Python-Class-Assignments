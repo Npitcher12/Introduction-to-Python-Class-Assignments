{
  "nbformat": 4,
  "nbformat_minor": 0,
  "metadata": {
    "colab": {
      "name": "Assignment Week 7.ipynb",
      "provenance": [],
      "include_colab_link": true
    },
    "kernelspec": {
      "name": "python3",
      "display_name": "Python 3"
    }
  },
  "cells": [
    {
      "cell_type": "markdown",
      "metadata": {
        "id": "view-in-github",
        "colab_type": "text"
      },
      "source": [
        "<a href=\"https://colab.research.google.com/github/Npitcher12/Introduction-to-Python-Class-Assignments/blob/master/Assignment_Week_7.ipynb\" target=\"_parent\"><img src=\"https://colab.research.google.com/assets/colab-badge.svg\" alt=\"Open In Colab\"/></a>"
      ]
    },
    {
      "cell_type": "markdown",
      "metadata": {
        "id": "ssVL6QEUKk_L"
      },
      "source": [
        "# WEEK 7 ASSIGNMENT : Working with Strings\n",
        "\n",
        "----------------\n",
        "\n",
        "You are encouraged to create a new blank workbook for your solutions. You should then save your solutions into GitHub.\n",
        "\n",
        "**0)** Write a program that prints the following by using the VARIABLE.upper() and VARIABLE.lower() commands:\n",
        "\"Hello World\"\n",
        "\"HELLO WORLD\"\n",
        "\"hello world\"\n",
        "\n",
        "**1)** Define a python function, hasVowels(str), that takes in a string as input to the function and checks to see if the string contains any vowels. Your function should return True if the string has a vowel and False if the string does not have a vowel. \n",
        "\n",
        "If your **hasVowels** function is written correctly then the following test code should work:\n",
        " "
      ]
    },
    {
      "cell_type": "code",
      "metadata": {
        "id": "KnT3B-iNFKcU"
      },
      "source": [
        "#0\n",
        "hello = 'Hello World'\n",
        "print(hello)\n",
        "print(hello.upper())\n",
        "print(hello.lower())"
      ],
      "execution_count": null,
      "outputs": []
    },
    {
      "cell_type": "code",
      "metadata": {
        "id": "4pqcophE5PCF"
      },
      "source": [
        "#1\n",
        "def hasVowels(word):\n",
        "  word.lower()\n",
        "  vowels = ['a', 'e', 'i', 'o', 'u']\n",
        "  for x in word:\n",
        "    if x in vowels:\n",
        "      return True\n"
      ],
      "execution_count": 3,
      "outputs": []
    },
    {
      "cell_type": "code",
      "metadata": {
        "id": "2udnQYLbKddY",
        "outputId": "5ae76ec2-7732-4887-d979-6846e82fa25a",
        "colab": {
          "base_uri": "https://localhost:8080/"
        }
      },
      "source": [
        "word = \"berry\"\n",
        "not_word = \"fghjk\"\n",
        "\n",
        "if hasVowels(word):\n",
        "  print(\"The string\", word, \"has at least one vowel\")\n",
        "else:\n",
        "  print(\"The string\", word, \"does not have any vowels\")\n",
        "\n",
        "if hasVowels(not_word):\n",
        "  print(\"The string\", not_word, \"has at least one vowel\")\n",
        "else:\n",
        "  print(\"The string\", not_word, \"does not have any vowels\")"
      ],
      "execution_count": 4,
      "outputs": [
        {
          "output_type": "stream",
          "text": [
            "The string berry has at least one vowel\n",
            "The string fghjk does not have any vowels\n"
          ],
          "name": "stdout"
        }
      ]
    },
    {
      "cell_type": "markdown",
      "metadata": {
        "id": "wMs6Ap_qMJDo"
      },
      "source": [
        "**2)** Write a Python program that makes use of your existing **hasVowels** function to do the following task. Repeatedly ask the user to enter a word with vowels from the keyboard, you should stop when the user correctly enters a word with vowels. \n",
        "\n",
        "For example, if the user first types \"fhbjk\" and then types \"mbbccv\" you should keep asking the user to try again until they finally successfully enter something that has at least one vowel."
      ]
    },
    {
      "cell_type": "code",
      "metadata": {
        "id": "WCZYUGh55_ZF"
      },
      "source": [
        "#2\n",
        "vowel = False\n",
        "while vowel == False:\n",
        "  word = input('Please enter a word with at least one vowel')\n",
        "  if hasVowels(word) == True:\n",
        "    print(word + ' has at least one vowel')\n",
        "    vowel = True\n",
        "  else:\n",
        "    print('That word does not have a vowel')"
      ],
      "execution_count": null,
      "outputs": []
    },
    {
      "cell_type": "markdown",
      "metadata": {
        "id": "3zKsF4QiMxTu"
      },
      "source": [
        "**3)** Define a Python function called, countVowels(str), that takes in a string as input to the function and returns the number of vowels in the string. \n",
        "\n",
        "You should have a count variable inside the function and then loop through the letters in the string and check each one to see if it is a vowel. \n",
        "\n",
        "If your **countVowels** function is written correctly then the following test code should work.\n",
        "\n"
      ]
    },
    {
      "cell_type": "code",
      "metadata": {
        "id": "fJED7DS16t5O"
      },
      "source": [
        "#3\n",
        "def countVowels(word):\n",
        "  vowel_count = 0\n",
        "  vowels = ['a', 'e', 'i', 'o', 'u']\n",
        "  word.lower()\n",
        "  for x in word:\n",
        "    if x in vowels:\n",
        "      vowel_count = vowel_count + 1\n",
        "  return vowel_count\n"
      ],
      "execution_count": 6,
      "outputs": []
    },
    {
      "cell_type": "code",
      "metadata": {
        "id": "JTWk3nZWNSTO"
      },
      "source": [
        "name1 = \"matthew\"\n",
        "name2 = \"lepinski\"\n",
        "\n",
        "count1 = countVowels(name1)\n",
        "count2 = countVowels(name2)\n",
        "\n",
        "print(name1, \"has\", count1, \"vowels in it\")\n",
        "print(name2, \"has\", count2, \"vowels in it\")"
      ],
      "execution_count": null,
      "outputs": []
    },
    {
      "cell_type": "markdown",
      "metadata": {
        "id": "6JyIDGJyNmJF"
      },
      "source": [
        "**4)** Write a Python program that starts with an empty list and then asks the user to enter a word. The program should add the word to the list and then ask for a new word (and add the new word to the list) and continue like this until the user enters \"stop\" or \"STOP\" or \"STop\" or any variation like \"sTOP\" or \"stoP\".\n",
        "\n",
        "Note: We did something similar to this last week, you might want to look at the Week 6 assignment or worksheet for inspiration"
      ]
    },
    {
      "cell_type": "code",
      "metadata": {
        "id": "QofqQO_NFFc1"
      },
      "source": [
        "#4\n",
        "word_list = []\n",
        "word = ('')\n",
        "while not word.lower() == 'stop':\n",
        "  word = input('Please enter a word or type stop to stop: ')\n",
        "  if word.isalpha():\n",
        "    if not word.lower() == 'stop':\n",
        "      word_list.append(word)\n",
        "  else:\n",
        "    print('Please enter only letters')\n",
        "for x in word_list:\n",
        "  print(x)"
      ],
      "execution_count": null,
      "outputs": []
    },
    {
      "cell_type": "markdown",
      "metadata": {
        "id": "QmWEmSA9OXtN"
      },
      "source": [
        "**5)** Use your **countVowels** funciton from problem 3 and your list of words from problem 4 together to figure out the total number of vowels in all of the words that the user enters. \n",
        "\n",
        "Note: Ideally, you should not count the 1 \"o\" in the \"stop\" that they typed at the end"
      ]
    },
    {
      "cell_type": "code",
      "metadata": {
        "id": "9gRgG9g940TM"
      },
      "source": [
        "#5\n",
        "word_list = []\n",
        "amount_of_vowels = 0\n",
        "word = ('')\n",
        "while not word.lower() == 'stop':\n",
        "  word = input('Please enter a word or type stop to stop: ')\n",
        "  if word.isalpha():\n",
        "    if not word.lower() == 'stop':\n",
        "      word_list.append(word.lower())\n",
        "  else:\n",
        "    print('Please only input letters')\n",
        "\n",
        "for x in word_list:\n",
        "  amount_of_vowels = amount_of_vowels + countVowels(x)\n",
        "print('There are '+ str(amount_of_vowels) + ' vowels in those words')\n"
      ],
      "execution_count": null,
      "outputs": []
    }
  ]
}