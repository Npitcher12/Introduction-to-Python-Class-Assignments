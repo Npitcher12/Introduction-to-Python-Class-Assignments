{
  "nbformat": 4,
  "nbformat_minor": 0,
  "metadata": {
    "colab": {
      "name": "Week 6 Assignment.ipynb",
      "provenance": [],
      "collapsed_sections": [],
      "authorship_tag": "ABX9TyO/4wU/bvrvv/dNvfROrS4/",
      "include_colab_link": true
    },
    "kernelspec": {
      "name": "python3",
      "display_name": "Python 3"
    }
  },
  "cells": [
    {
      "cell_type": "markdown",
      "metadata": {
        "id": "view-in-github",
        "colab_type": "text"
      },
      "source": [
        "<a href=\"https://colab.research.google.com/github/Npitcher12/Introduction-to-Python-Class-Assignments/blob/master/Week_6_Assignment.ipynb\" target=\"_parent\"><img src=\"https://colab.research.google.com/assets/colab-badge.svg\" alt=\"Open In Colab\"/></a>"
      ]
    },
    {
      "cell_type": "code",
      "metadata": {
        "id": "r9iZpFPS6Vsn"
      },
      "source": [
        "#0\n",
        "list = ['Hello', 'World']\n",
        "print(list)\n",
        "for x in list:\n",
        "  print(x)\n",
        "\n"
      ],
      "execution_count": null,
      "outputs": []
    },
    {
      "cell_type": "code",
      "metadata": {
        "id": "rnKENXj_6hEU"
      },
      "source": [
        "#1/#2/#3\n",
        "#1\n",
        "import sys\n",
        "stop = ['Stop', 'stop', 'STOP']\n",
        "grocery_list = []\n",
        "yes = ['yes', 'Yes', 'YES']\n",
        "no = ['no', 'No', 'NO']\n",
        "olive = ['Olives', 'olives', 'Olive', 'olive', 'OLIVES', 'OLIVE']\n",
        "items = ()\n",
        "empty = True\n",
        "empty_list = ['']\n",
        "empty_answer = ()\n",
        "while not items in stop or empty == True:\n",
        "  items = input('Please enter a food item or type stop to stop ')\n",
        "  if items in empty_list:\n",
        "    print('Please enter an item or type stop')\n",
        "  elif items in grocery_list:\n",
        "    print(items + ' is already in the list')\n",
        "  elif not items in stop:\n",
        "    print(items + ' has been added to the list')\n",
        "    grocery_list.append(items)\n",
        "  elif items in empty_list or len(grocery_list) == 0:\n",
        "    empty_answer = input(\"Are you sure you want an empty list? Type yes or no \")\n",
        "    while not empty_answer in yes and not empty_answer in no:\n",
        "      print('Thats not a valid input')\n",
        "      empty_answer = input(\"Are you sure you want an empty list? \")\n",
        "    if empty_answer in yes:\n",
        "      print('Alright then')\n",
        "      sys.exit()\n",
        "    elif empty_answer in no:\n",
        "      print('Then type in a food item')\n",
        "  elif items in stop:\n",
        "    empty = False\n",
        "print('This is the food in the list')\n",
        "for i in grocery_list:\n",
        "  print(i)\n",
        "\n",
        "#2\n",
        "yes_no = input('Would you like to delete anything in the list? Type yes or no ')\n",
        "while not yes_no in yes and not yes_no in no:\n",
        "      print('Thats not a valid input')\n",
        "      yes_no = input('Would you like to delete anything in the list? Type yes or no ')\n",
        "if yes_no in yes:\n",
        "  print('What would you like to delete from your list? Type stop to stop')\n",
        "  item_del = ()\n",
        "  while not item_del in stop:\n",
        "    item_del = input()\n",
        "    if item_del in grocery_list and not item_del in stop:\n",
        "      print(item_del + ' was removed from the list')\n",
        "      grocery_list.remove(item_del)\n",
        "    elif not item_del in grocery_list and not item_del in stop:\n",
        "      print('That item was not found in the list')\n",
        "  print('This is your final list')\n",
        "  for l in grocery_list:\n",
        "    print(l)\n",
        "elif yes_no in no:\n",
        "  print('Then this is your final list')\n",
        "  for l in grocery_list:\n",
        "    print(l)\n",
        "\n",
        "#3\n",
        "olives = False\n",
        "for l in grocery_list:\n",
        "  if l in olive:\n",
        "    olives = True\n",
        "if olives == True:\n",
        "  print(\"Of course we don't want olives though so your final final list is\")\n",
        "  for l in grocery_list:\n",
        "    if not l in olive:\n",
        "      print(l)\n"
      ],
      "execution_count": null,
      "outputs": []
    }
  ]
}